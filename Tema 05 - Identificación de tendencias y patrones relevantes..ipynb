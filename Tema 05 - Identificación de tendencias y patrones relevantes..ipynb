{
 "cells": [
  {
   "cell_type": "markdown",
   "id": "443d7de2",
   "metadata": {},
   "source": [
    "# <strong><font color='red'>Identificación de tendencias y patrones relevantes.</font></strong>"
   ]
  },
  {
   "cell_type": "markdown",
   "id": "e240b53b",
   "metadata": {},
   "source": [
    "## Librerías\n",
    "Antes de comenzar a explorar nuestros datos, es importante importar las bibliotecas que nos permitirán manipularlos y visualizarlos. Utilizaremos pandas para trabajar con estructuras tipo DataFrame, numpy para funciones numéricas, y seaborn y matplotlib para gráficos."
   ]
  },
  {
   "cell_type": "code",
   "execution_count": 23,
   "id": "7acfef7f",
   "metadata": {},
   "outputs": [
    {
     "ename": "SyntaxError",
     "evalue": "invalid syntax (1196730589.py, line 5)",
     "output_type": "error",
     "traceback": [
      "\u001b[1;36m  Cell \u001b[1;32mIn[23], line 5\u001b[1;36m\u001b[0m\n\u001b[1;33m    from statsmodels.tsa.seasonal import\u001b[0m\n\u001b[1;37m                                         ^\u001b[0m\n\u001b[1;31mSyntaxError\u001b[0m\u001b[1;31m:\u001b[0m invalid syntax\n"
     ]
    }
   ],
   "source": [
    "# Importar librerías \n",
    "import pandas as pd\n",
    "import matplotlib.pyplot as plt\n",
    "import seaborn as sns\n",
    "from statsmodels.tsa.seasonal import "
   ]
  },
  {
   "cell_type": "markdown",
   "id": "414b8498",
   "metadata": {},
   "source": [
    "## 🌡️ Tendencias y Patrones Relevantes en Temperatura\n",
    "\n",
    "Datos reales de temperatura histórica en Chile, específicamente desde estaciones meteorológicas oficiales. Utilizaremos un conjunto de datos disponible públicamente en [GitHub](https://github.com/bastianolea/temperaturas_chile) que recopila temperaturas mínimas y máximas desde 1950 hasta 2024."
   ]
  },
  {
   "cell_type": "code",
   "execution_count": null,
   "id": "19f8c183",
   "metadata": {},
   "outputs": [
    {
     "name": "stdout",
     "output_type": "stream",
     "text": [
      "       fecha  t_min  t_max  temperatura_media\n",
      "0 2013-01-01   16.7   23.9              20.30\n",
      "1 2013-01-02   16.2   23.5              19.85\n",
      "2 2013-01-03   20.1   24.3              22.20\n",
      "3 2013-01-04   17.5   24.4              20.95\n",
      "4 2013-01-05   19.8   23.9              21.85\n"
     ]
    }
   ],
   "source": [
    "# Ruta válida al archivo CSV\n",
    "url = \"https://raw.githubusercontent.com/bastianolea/temperaturas_chile/main/datos/procesados/temperaturas_chile.csv\"\n",
    "\n",
    "# Leer el archivo usando punto y coma como separador\n",
    "df = pd.read_csv(url, sep=';')\n",
    "\n",
    "# Limpieza básica\n",
    "df.columns = df.columns.str.strip()  # Eliminar espacios en nombres de columnas\n",
    "df['fecha'] = pd.to_datetime(df['fecha'], errors='coerce')\n",
    "\n",
    "# Conversión de columna de fecha\n",
    "df['fecha'] = pd.to_datetime(df['fecha'], errors='coerce')\n",
    "\n",
    "df['t_min'] = pd.to_numeric(df['t_min'].str.replace(',', '.'), errors='coerce')\n",
    "df['t_max'] = pd.to_numeric(df['t_max'].str.replace(',', '.'), errors='coerce')\n",
    "\n",
    "# Crear columna de temperatura media\n",
    "df['temperatura_media'] = (df['t_min'] + df['t_max']) / 2\n",
    "\n",
    "# Verificar que todo esté bien\n",
    "print(df[['fecha', 't_min', 't_max', 'temperatura_media']].head())"
   ]
  },
  {
   "cell_type": "code",
   "execution_count": 30,
   "id": "ca0feb90",
   "metadata": {},
   "outputs": [
    {
     "ename": "ValueError",
     "evalue": "Cannot mask with non-boolean array containing NA / NaN values",
     "output_type": "error",
     "traceback": [
      "\u001b[1;31m---------------------------------------------------------------------------\u001b[0m",
      "\u001b[1;31mValueError\u001b[0m                                Traceback (most recent call last)",
      "Cell \u001b[1;32mIn[30], line 2\u001b[0m\n\u001b[0;32m      1\u001b[0m \u001b[38;5;66;03m# Filtrar por estación (ejemplo: Santiago)\u001b[39;00m\n\u001b[1;32m----> 2\u001b[0m df_santiago \u001b[38;5;241m=\u001b[39m df[df[\u001b[38;5;124m'\u001b[39m\u001b[38;5;124mnombre\u001b[39m\u001b[38;5;124m'\u001b[39m]\u001b[38;5;241m.\u001b[39mstr\u001b[38;5;241m.\u001b[39mcontains(\u001b[38;5;124m\"\u001b[39m\u001b[38;5;124mSantiago\u001b[39m\u001b[38;5;124m\"\u001b[39m, case\u001b[38;5;241m=\u001b[39m\u001b[38;5;28;01mFalse\u001b[39;00m)]\u001b[38;5;241m.\u001b[39mcopy()\n\u001b[0;32m      3\u001b[0m df_santiago \u001b[38;5;241m=\u001b[39m df_santiago\u001b[38;5;241m.\u001b[39mdropna(subset\u001b[38;5;241m=\u001b[39m[\u001b[38;5;124m'\u001b[39m\u001b[38;5;124mfecha\u001b[39m\u001b[38;5;124m'\u001b[39m, \u001b[38;5;124m'\u001b[39m\u001b[38;5;124mtemperatura_media\u001b[39m\u001b[38;5;124m'\u001b[39m])\n\u001b[0;32m      5\u001b[0m \u001b[38;5;66;03m# Agrupar por mes y calcular promedio mensual\u001b[39;00m\n",
      "File \u001b[1;32mc:\\Users\\bernarda.salazar\\AppData\\Local\\anaconda3\\Lib\\site-packages\\pandas\\core\\frame.py:3883\u001b[0m, in \u001b[0;36mDataFrame.__getitem__\u001b[1;34m(self, key)\u001b[0m\n\u001b[0;32m   3880\u001b[0m     \u001b[38;5;28;01mreturn\u001b[39;00m \u001b[38;5;28mself\u001b[39m\u001b[38;5;241m.\u001b[39mwhere(key)\n\u001b[0;32m   3882\u001b[0m \u001b[38;5;66;03m# Do we have a (boolean) 1d indexer?\u001b[39;00m\n\u001b[1;32m-> 3883\u001b[0m \u001b[38;5;28;01mif\u001b[39;00m com\u001b[38;5;241m.\u001b[39mis_bool_indexer(key):\n\u001b[0;32m   3884\u001b[0m     \u001b[38;5;28;01mreturn\u001b[39;00m \u001b[38;5;28mself\u001b[39m\u001b[38;5;241m.\u001b[39m_getitem_bool_array(key)\n\u001b[0;32m   3886\u001b[0m \u001b[38;5;66;03m# We are left with two options: a single key, and a collection of keys,\u001b[39;00m\n\u001b[0;32m   3887\u001b[0m \u001b[38;5;66;03m# We interpret tuples as collections only for non-MultiIndex\u001b[39;00m\n",
      "File \u001b[1;32mc:\\Users\\bernarda.salazar\\AppData\\Local\\anaconda3\\Lib\\site-packages\\pandas\\core\\common.py:133\u001b[0m, in \u001b[0;36mis_bool_indexer\u001b[1;34m(key)\u001b[0m\n\u001b[0;32m    129\u001b[0m     na_msg \u001b[38;5;241m=\u001b[39m \u001b[38;5;124m\"\u001b[39m\u001b[38;5;124mCannot mask with non-boolean array containing NA / NaN values\u001b[39m\u001b[38;5;124m\"\u001b[39m\n\u001b[0;32m    130\u001b[0m     \u001b[38;5;28;01mif\u001b[39;00m lib\u001b[38;5;241m.\u001b[39mis_bool_array(key_array, skipna\u001b[38;5;241m=\u001b[39m\u001b[38;5;28;01mTrue\u001b[39;00m):\n\u001b[0;32m    131\u001b[0m         \u001b[38;5;66;03m# Don't raise on e.g. [\"A\", \"B\", np.nan], see\u001b[39;00m\n\u001b[0;32m    132\u001b[0m         \u001b[38;5;66;03m#  test_loc_getitem_list_of_labels_categoricalindex_with_na\u001b[39;00m\n\u001b[1;32m--> 133\u001b[0m         \u001b[38;5;28;01mraise\u001b[39;00m \u001b[38;5;167;01mValueError\u001b[39;00m(na_msg)\n\u001b[0;32m    134\u001b[0m     \u001b[38;5;28;01mreturn\u001b[39;00m \u001b[38;5;28;01mFalse\u001b[39;00m\n\u001b[0;32m    135\u001b[0m \u001b[38;5;28;01mreturn\u001b[39;00m \u001b[38;5;28;01mTrue\u001b[39;00m\n",
      "\u001b[1;31mValueError\u001b[0m: Cannot mask with non-boolean array containing NA / NaN values"
     ]
    }
   ],
   "source": [
    "# Filtrar por estación (ejemplo: Santiago)\n",
    "df_santiago = df[df['nombre'].str.contains(\"Santiago\", case=False)].copy()\n",
    "df_santiago = df_santiago.dropna(subset=['fecha', 'temperatura_media'])\n",
    "\n",
    "# Agrupar por mes y calcular promedio mensual\n",
    "df_santiago['AñoMes'] = df_santiago['fecha'].dt.to_period('M')\n",
    "df_mensual = df_santiago.groupby('AñoMes')['temperatura_media'].mean().reset_index()\n",
    "df_mensual['Fecha'] = df_mensual['AñoMes'].dt.to_timestamp()"
   ]
  },
  {
   "cell_type": "code",
   "execution_count": null,
   "id": "fb33c544",
   "metadata": {},
   "outputs": [],
   "source": [
    "# Visualizar evolución temporal\n",
    "plt.figure(figsize=(14,6))\n",
    "sns.lineplot(data=df_mensual, x='Fecha', y='temperatura_media', marker='o', color='darkorange')\n",
    "plt.title(\"Temperatura Media Mensual - Santiago de Chile\")\n",
    "plt.xlabel(\"Fecha\")\n",
    "plt.ylabel(\"Temperatura (°C)\")\n",
    "plt.xticks(rotation=45)\n",
    "plt.tight_layout()\n",
    "plt.show()"
   ]
  },
  {
   "cell_type": "code",
   "execution_count": null,
   "id": "9870a600",
   "metadata": {},
   "outputs": [],
   "source": [
    "# Descomposición de serie temporal\n",
    "df_mensual.set_index('Fecha', inplace=True)\n",
    "decomp = seasonal_decompose(df_mensual['temperatura_media'], model='additive', period=12)\n",
    "\n"
   ]
  },
  {
   "cell_type": "code",
   "execution_count": null,
   "id": "320f3a14",
   "metadata": {},
   "outputs": [],
   "source": [
    "# Graficar componentes: tendencia, estacionalidad y residuales\n",
    "decomp.plot()\n",
    "plt.suptitle(\"Componentes de la Temperatura - Santiago\", fontsize=16)\n",
    "plt.tight_layout()\n",
    "plt.show()\n"
   ]
  },
  {
   "cell_type": "code",
   "execution_count": null,
   "id": "f3b7e141",
   "metadata": {},
   "outputs": [],
   "source": [
    "\n",
    "# Identificar meses más cálidos o fríos\n",
    "df_mensual['Mes'] = df_mensual.index.month\n",
    "sns.boxplot(data=df_mensual, x='Mes', y='temperatura_media', palette='coolwarm')\n",
    "plt.title(\"Distribución Mensual de Temperatura - Santiago\")\n",
    "plt.xlabel(\"Mes\")\n",
    "plt.ylabel(\"Temperatura (°C)\")\n",
    "plt.tight_layout()\n",
    "plt.show()"
   ]
  }
 ],
 "metadata": {
  "kernelspec": {
   "display_name": "base",
   "language": "python",
   "name": "python3"
  },
  "language_info": {
   "codemirror_mode": {
    "name": "ipython",
    "version": 3
   },
   "file_extension": ".py",
   "mimetype": "text/x-python",
   "name": "python",
   "nbconvert_exporter": "python",
   "pygments_lexer": "ipython3",
   "version": "3.12.7"
  }
 },
 "nbformat": 4,
 "nbformat_minor": 5
}
