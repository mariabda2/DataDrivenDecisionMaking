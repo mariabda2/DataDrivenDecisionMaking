{
 "cells": [
  {
   "cell_type": "markdown",
   "id": "443d7de2",
   "metadata": {},
   "source": [
    "# **Identificación de Fuentes de Datos Relevantes**"
   ]
  },
  {
   "cell_type": "markdown",
   "id": "f4871154",
   "metadata": {},
   "source": [
    "En esta sesión exploraremos diferentes fuentes de datos que pueden ser utilizadas para la toma de decisiones basada en evidencia. Veremos fuentes públicas, abiertas y privadas, y aprenderemos a evaluar su relevancia con base en criterios como cobertura, calidad, frecuencia de actualización y confiabilidad."
   ]
  },
  {
   "cell_type": "code",
   "execution_count": 13,
   "id": "d604881b",
   "metadata": {},
   "outputs": [],
   "source": [
    "#Importar librerías\n",
    "import pandas as pd\n",
    "from IPython.display import display, Markdown"
   ]
  },
  {
   "cell_type": "markdown",
   "id": "a968c22c",
   "metadata": {},
   "source": [
    "## 🔍 **1. Tipos de fuentes de datos**\n",
    "<br> La elección de una fuente de datos adecuada depende del problema de análisis, el tipo de decisión que se desea respaldar (operativa, táctica o estratégica) y la disponibilidad de la información. A continuación se describen las principales categorías:"
   ]
  },
  {
   "cell_type": "markdown",
   "id": "c150bc68",
   "metadata": {},
   "source": [
    "### 1.1. Fuentes de datos abiertos (Open Data)\n",
    "Proporcionadas generalmente por gobiernos, organismos multilaterales, instituciones académicas o iniciativas cívicas. Son gratuitas, accesibles públicamente y suelen estar en formatos estructurados como CSV, JSON o Excel.\n",
    "\n",
    "**Características:**\n",
    "- Acceso libre sin registro o con registro básico.\n",
    "- Frecuencia de actualización variable.\n",
    "- Datos anonimizados y con licencias abiertas.\n",
    "\n",
    "### 1.2. APIs públicas y privadas\n",
    "Permiten acceder a datos en tiempo real o histórico mediante programación, utilizando protocolos como REST o GraphQL. Son ideales para aplicaciones interactivas, automatización y análisis de grandes volúmenes de datos.\n",
    "\n",
    "**Características:**\n",
    "- Requiere conocimientos técnicos y manejo de librerías (e.g., requests, json en Python).\n",
    "- Algunas requieren autenticación mediante token.\n",
    "- Pueden tener límites de uso por día.\n",
    "\n",
    "### 1.3. Bases de datos estructuradas\n",
    "Conjuntos de datos almacenados en sistemas relacionales (SQL) o no relacionales (NoSQL), utilizados internamente por empresas o compartidos como parte de alianzas institucionales.\n",
    "\n",
    "**Características:**\n",
    "- Altamente estructuradas (tablas, campos, relaciones).\n",
    "- Requieren acceso autorizado.\n",
    "- Pueden estar en la nube o en servidores locales.\n",
    "\n",
    "### 1.4. Repositorios académicos y científicos\n",
    "Alojan datos generados por investigaciones. Son útiles para validar hipótesis, crear modelos y realizar análisis comparativos.\n",
    "\n",
    "**Características:**\n",
    "- Acceso libre o bajo condiciones académicas.\n",
    "- Documentación técnica completa (metadatos, metodología, DOI).\n",
    "- Licencias de uso definidas (Creative Commons, etc.).\n",
    "\n",
    "### 1.5. Plataformas colaborativas de ciencia de datos\n",
    "Son comunidades donde los usuarios comparten datasets curados para fines educativos o experimentales.\n",
    "\n",
    "**Características:**\n",
    "- Enfocadas en proyectos de machine learning y visualización.\n",
    "- Datasets clasificados por complejidad y uso.\n",
    "- Posibilidad de ejecución de notebooks en línea (e.g., Kaggle Kernels).\n",
    "\n",
    "### 1.6. Datos no estructurados (texto, imágenes, audio, video)\n",
    "Información que no sigue un formato tabular. Su procesamiento requiere técnicas de minería de texto, procesamiento de lenguaje natural (NLP), visión computacional, etc.\n",
    "\n",
    "**Características:**\n",
    "- No organizados en filas y columnas.\n",
    "- Difíciles de almacenar y analizar sin preprocesamiento.\n",
    "- Útiles para análisis cualitativo o detección de patrones complejos."
   ]
  },
  {
   "cell_type": "markdown",
   "id": "01632a13",
   "metadata": {},
   "source": [
    "## 🌐 **2. Ejemplos de fuentes abiertas de datos**"
   ]
  },
  {
   "cell_type": "markdown",
   "id": "cf421e35",
   "metadata": {},
   "source": [
    "🌐 [Google Dataset Search](https://datasetsearch.research.google.com/)\n",
    "<br>Buscador de datasets disponible en la web. Puedes buscar por tema, formato, autor, etc. Muy útil para encontrar fuentes académicas, gubernamentales y de investigación.\n",
    "\n",
    "<br> 🏛️ Datos Abiertos del Gobierno\n",
    "- **Colombia:** [datos.gov.co](https://www.datos.gov.co/). Portal oficial de datos abiertos del gobierno colombiano. Contiene conjuntos de datos de salud, transporte, educación, medio ambiente y más, con opciones de descarga directa en varios formatos.\n",
    "- **Chile:** [datos.gob.cl](https://datos.gob.cl/). Portal oficial de datos abiertos del gobierno de Chile. Ofrece acceso a conjuntos de datos en áreas como salud, educación, transporte, medio ambiente y economía, publicados por distintos organismos públicos. Los datos están disponibles en formatos abiertos como CSV, JSON y Excel, y muchos se pueden consultar mediante API.\n",
    "\n",
    "<br> 📊 [Kaggle Datasets](https://www.kaggle.com/datasets)\n",
    "<br> Repositorio con miles de datasets organizados por categoría. Ideal para proyectos de machine learning, ciencia de datos y visualización. Requiere cuenta gratuita.\n",
    "\n",
    "<br> 🌎 [World Bank Open Data](https://data.worldbank.org/)\n",
    "<br> Conjuntos de datos económicos, sociales y ambientales de casi todos los países del mundo. Útil para análisis comparativos y decisiones en políticas públicas.\n",
    "\n",
    "<br> 🌐 [Our World in Data](https://ourworldindata.org/)\n",
    "<br> Publica datos sobre salud, energía, medio ambiente, pobreza y más. Los datasets están disponibles para descarga en CSV y se actualizan frecuentemente.\n",
    "\n",
    "<br> 🌡️ [OpenWeatherMap API](https://openweathermap.org/api)\n",
    "<br> Ofrece datos meteorológicos actuales e históricos mediante API. Ideal para proyectos que analizan el impacto del clima en la toma de decisiones. Requiere registro gratuito.\n",
    "\n",
    "<br> 🧬 [UCI Machine Learning Repository](https://archive.ics.uci.edu/)\n",
    "<br> Base de datos clásica de conjuntos de datos para machine learning. Muy útil para prácticas de clasificación, regresión, clustering y reducción de dimensionalidad.\n",
    "\n",
    "<br> 📚 [Harvard Dataverse](https://dataverse.harvard.edu/)\n",
    "<br> Repositorio de datos académicos multidisciplinarios. Permite explorar datasets generados en investigaciones científicas, con citas y licencias claras.\n",
    "\n",
    "<br> 🚦 [European Data Portal](https://data.europa.eu/en)\n",
    "<br> Acceso a datasets públicos de los países miembros de la Unión Europea, en temas como movilidad, economía, salud, agricultura y más."
   ]
  },
  {
   "cell_type": "markdown",
   "id": "1ab03ec1",
   "metadata": {},
   "source": [
    "## **3. 📋 Evaluación de la relevancia de una fuente**\n",
    "\n",
    "Criterios para evaluar si un conjunto de datos es útil:\n",
    "- Cobertura temática: ¿Responde a la pregunta o necesidad del análisis?\n",
    "- Actualización: ¿Cada cuánto se actualiza la fuente? ¿Está vigente?\n",
    "- Calidad de los datos: ¿Tiene valores faltantes? ¿Formato consistente?\n",
    "- Licencia de uso: ¿Se puede utilizar libremente con fines académicos o comerciales?\n",
    "- Formato de acceso: ¿Está disponible en CSV, JSON, API, etc.?"
   ]
  },
  {
   "cell_type": "markdown",
   "id": "759b79b8",
   "metadata": {},
   "source": [
    "### **3.1. Pertinencia**\n",
    "Evalúa si el contenido del dataset está alineado con el problema o decisión que estás abordando.\n",
    "\n",
    "*Preguntas guía:*\n",
    "- ¿Los datos responden directamente a la pregunta de investigación o necesidad de análisis?\n",
    "- ¿Incluyen las variables relevantes?\n",
    "- ¿La cobertura geográfica, temporal o temática es la adecuada?\n",
    "\n",
    "*Evaluación ejemplo:*\n",
    "- Alta: Los datos están directamente relacionados con el problema.\n",
    "- Media: La relación es parcial; faltan variables o el contexto es limitado.\n",
    "- Baja: El dataset no aborda el problema planteado o es demasiado general."
   ]
  },
  {
   "cell_type": "markdown",
   "id": "cce7fc49",
   "metadata": {},
   "source": [
    "### **3.2. Formato y usabilidad**\n",
    "Evalúa si el formato facilita su integración con herramientas analíticas.\n",
    "\n",
    "*Preguntas guía:*\n",
    "- ¿Está en formato estructurado (CSV, JSON, Excel)?\n",
    "- ¿Puedes cargarlo fácilmente en Python, R, Excel, etc.?\n",
    "- ¿La estructura es clara (columnas, registros, metadatos)?\n",
    "\n",
    "*Evaluación ejemplo:*\n",
    "- Alta: CSV, JSON, o Excel bien estructurado y documentado.\n",
    "- Media: Requiere preprocesamiento pero es usable.\n",
    "- Baja: Formato complejo, no descargable, o difícil de leer."
   ]
  },
  {
   "cell_type": "markdown",
   "id": "87940161",
   "metadata": {},
   "source": [
    "### **3.3. Actualización**\n",
    "Considera qué tan reciente y frecuente es la actualización de los datos.\n",
    "\n",
    "*Preguntas guía:*\n",
    "- ¿Cuándo fue la última vez que se actualizó?\n",
    "- ¿Es suficiente para el tipo de análisis (tiempo real, anual, histórico)?\n",
    "- ¿Se indica con claridad la fecha de los registros?\n",
    "\n",
    "*Evaluación ejemplo:*\n",
    "- Alta: Actualizado recientemente (mes o año vigente).\n",
    "- Media: Actualizado en los últimos 1–3 años.\n",
    "- Baja: Muy antiguo, sin indicios de mantenimiento o actualización."
   ]
  },
  {
   "cell_type": "markdown",
   "id": "d2768cdc",
   "metadata": {},
   "source": [
    "### **3.4. Calidad de los datos**\n",
    "Valora la completitud, consistencia, precisión y formato interno de los datos.\n",
    "\n",
    "*Preguntas guía:*\n",
    "- ¿Hay valores faltantes, duplicados o inconsistentes?\n",
    "- ¿Las variables están claramente definidas y con unidades?\n",
    "- ¿Los datos están bien estructurados y sin errores evidentes?\n",
    "\n",
    "*Evaluación ejemplo:*\n",
    "- Alta: Datos limpios, bien documentados, sin valores nulos o inconsistencias.\n",
    "- Media: Algunos problemas menores (nulos, errores de codificación).\n",
    "- Baja: Problemas severos de limpieza o estructura que dificultan su uso.\n"
   ]
  },
  {
   "cell_type": "markdown",
   "id": "7a249fa1",
   "metadata": {},
   "source": [
    "### **3.5. Licencia y acceso**\n",
    "Examina si puedes usar los datos legalmente y con facilidad.\n",
    "\n",
    "*Preguntas guía:*\n",
    "- ¿La fuente indica licencia (CC-BY, Open Data, etc.)?\n",
    "- ¿Se puede acceder sin registrarse o con una API gratuita?\n",
    "- ¿Tiene restricciones de uso comercial o académico?\n",
    "\n",
    "*Evaluación ejemplo:*\n",
    "- Alta: Licencia abierta clara, acceso libre.\n",
    "- Media: Licencia no especificada o acceso limitado (requiere registro).\n",
    "- Baja: No tiene licencia clara o el uso es restringido."
   ]
  },
  {
   "cell_type": "markdown",
   "id": "a052ce57",
   "metadata": {},
   "source": [
    "## 📓 **4. Ejemplos: Evaluación de la Relevancia de Fuentes de Datos**"
   ]
  },
  {
   "cell_type": "code",
   "execution_count": 30,
   "id": "23c884f2",
   "metadata": {},
   "outputs": [],
   "source": [
    "#Criterios\n",
    "criterios = [\n",
    "    \"Pertinencia\",\n",
    "    \"Actualización\",\n",
    "    \"Calidad de los datos\",\n",
    "    \"Licencia y acceso\",\n",
    "    \"Formato y usabilidad\"\n",
    "]\n",
    "# Función para mostrar criterios y registrar evaluaciones separadas\n",
    "def evaluar_fuente(nombre_fuente, enlace, tema, evaluaciones):\n",
    "    if len(evaluaciones) != len(criterios):\n",
    "        raise ValueError(\"La cantidad de evaluaciones no coincide con los criterios.\")\n",
    "    \n",
    "    niveles = []\n",
    "    comentarios = []\n",
    "\n",
    "    for e in evaluaciones:\n",
    "        partes = e.split(\". \", 1)  # Separar solo en el primer punto seguido de espacio\n",
    "        nivel = partes[0]\n",
    "        comentario = partes[1] if len(partes) > 1 else \"\"\n",
    "        niveles.append(nivel)\n",
    "        comentarios.append(comentario)\n",
    "\n",
    "    df = pd.DataFrame({\n",
    "        \"Criterio\": criterios,\n",
    "        \"Evaluación\": niveles,\n",
    "        \"Comentario\": comentarios\n",
    "    })\n",
    "\n",
    "    display(Markdown(f\"### 🗂️ Evaluación: {nombre_fuente}\"))\n",
    "    display(Markdown(f\"**Tema:** {tema}  \\n**Enlace:** [{nombre_fuente}]({enlace})\"))\n",
    "    display(df)"
   ]
  },
  {
   "cell_type": "code",
   "execution_count": 29,
   "id": "612abc31",
   "metadata": {},
   "outputs": [
    {
     "data": {
      "text/markdown": [
       "### 🗂️ Evaluación: Casos confirmados de COVID-19 en Colombia"
      ],
      "text/plain": [
       "<IPython.core.display.Markdown object>"
      ]
     },
     "metadata": {},
     "output_type": "display_data"
    },
    {
     "data": {
      "text/markdown": [
       "**Tema:** Salud pública  \n",
       "**Enlace:** [Casos confirmados de COVID-19 en Colombia](https://www.datos.gov.co/Salud-y-Protecci-n-Social/Casos-positivos-de-COVID-19-en-Colombia/gt2j-8ykr)"
      ],
      "text/plain": [
       "<IPython.core.display.Markdown object>"
      ]
     },
     "metadata": {},
     "output_type": "display_data"
    },
    {
     "data": {
      "application/vnd.microsoft.datawrangler.viewer.v0+json": {
       "columns": [
        {
         "name": "index",
         "rawType": "int64",
         "type": "integer"
        },
        {
         "name": "Criterio",
         "rawType": "object",
         "type": "string"
        },
        {
         "name": "Evaluación",
         "rawType": "object",
         "type": "string"
        },
        {
         "name": "Comentario",
         "rawType": "object",
         "type": "string"
        }
       ],
       "ref": "6d5591a6-44ed-4936-9e95-b0cea4e7b2e0",
       "rows": [
        [
         "0",
         "Pertinencia",
         "Alta",
         "Información detallada por municipio, fecha y edad."
        ],
        [
         "1",
         "Actualización",
         "Moderada",
         "Última actualización disponible es de 2022."
        ],
        [
         "2",
         "Calidad de los datos",
         "Buena",
         "Datos limpios y categorizados."
        ],
        [
         "3",
         "Licencia y acceso",
         "Libre",
         "Licencia abierta y sin restricciones."
        ],
        [
         "4",
         "Formato y usabilidad",
         "CSV descargable",
         "Fácil uso en Python o Excel."
        ]
       ],
       "shape": {
        "columns": 3,
        "rows": 5
       }
      },
      "text/html": [
       "<div>\n",
       "<style scoped>\n",
       "    .dataframe tbody tr th:only-of-type {\n",
       "        vertical-align: middle;\n",
       "    }\n",
       "\n",
       "    .dataframe tbody tr th {\n",
       "        vertical-align: top;\n",
       "    }\n",
       "\n",
       "    .dataframe thead th {\n",
       "        text-align: right;\n",
       "    }\n",
       "</style>\n",
       "<table border=\"1\" class=\"dataframe\">\n",
       "  <thead>\n",
       "    <tr style=\"text-align: right;\">\n",
       "      <th></th>\n",
       "      <th>Criterio</th>\n",
       "      <th>Evaluación</th>\n",
       "      <th>Comentario</th>\n",
       "    </tr>\n",
       "  </thead>\n",
       "  <tbody>\n",
       "    <tr>\n",
       "      <th>0</th>\n",
       "      <td>Pertinencia</td>\n",
       "      <td>Alta</td>\n",
       "      <td>Información detallada por municipio, fecha y e...</td>\n",
       "    </tr>\n",
       "    <tr>\n",
       "      <th>1</th>\n",
       "      <td>Actualización</td>\n",
       "      <td>Moderada</td>\n",
       "      <td>Última actualización disponible es de 2022.</td>\n",
       "    </tr>\n",
       "    <tr>\n",
       "      <th>2</th>\n",
       "      <td>Calidad de los datos</td>\n",
       "      <td>Buena</td>\n",
       "      <td>Datos limpios y categorizados.</td>\n",
       "    </tr>\n",
       "    <tr>\n",
       "      <th>3</th>\n",
       "      <td>Licencia y acceso</td>\n",
       "      <td>Libre</td>\n",
       "      <td>Licencia abierta y sin restricciones.</td>\n",
       "    </tr>\n",
       "    <tr>\n",
       "      <th>4</th>\n",
       "      <td>Formato y usabilidad</td>\n",
       "      <td>CSV descargable</td>\n",
       "      <td>Fácil uso en Python o Excel.</td>\n",
       "    </tr>\n",
       "  </tbody>\n",
       "</table>\n",
       "</div>"
      ],
      "text/plain": [
       "               Criterio       Evaluación  \\\n",
       "0           Pertinencia             Alta   \n",
       "1         Actualización         Moderada   \n",
       "2  Calidad de los datos            Buena   \n",
       "3     Licencia y acceso            Libre   \n",
       "4  Formato y usabilidad  CSV descargable   \n",
       "\n",
       "                                          Comentario  \n",
       "0  Información detallada por municipio, fecha y e...  \n",
       "1        Última actualización disponible es de 2022.  \n",
       "2                     Datos limpios y categorizados.  \n",
       "3              Licencia abierta y sin restricciones.  \n",
       "4                       Fácil uso en Python o Excel.  "
      ]
     },
     "metadata": {},
     "output_type": "display_data"
    },
    {
     "data": {
      "text/markdown": [
       "### 🗂️ Evaluación: Viajes realizados en Ecobici (CDMX)"
      ],
      "text/plain": [
       "<IPython.core.display.Markdown object>"
      ]
     },
     "metadata": {},
     "output_type": "display_data"
    },
    {
     "data": {
      "text/markdown": [
       "**Tema:** Movilidad urbana  \n",
       "**Enlace:** [Viajes realizados en Ecobici (CDMX)](https://datos.cdmx.gob.mx/dataset/ecobici-viajes-realizados)"
      ],
      "text/plain": [
       "<IPython.core.display.Markdown object>"
      ]
     },
     "metadata": {},
     "output_type": "display_data"
    },
    {
     "data": {
      "application/vnd.microsoft.datawrangler.viewer.v0+json": {
       "columns": [
        {
         "name": "index",
         "rawType": "int64",
         "type": "integer"
        },
        {
         "name": "Criterio",
         "rawType": "object",
         "type": "string"
        },
        {
         "name": "Evaluación",
         "rawType": "object",
         "type": "string"
        },
        {
         "name": "Comentario",
         "rawType": "object",
         "type": "string"
        }
       ],
       "ref": "c765f534-adbf-4e3d-9270-84d7474fed6e",
       "rows": [
        [
         "0",
         "Pertinencia",
         "Alta",
         "Datos relevantes para analizar patrones de viaje."
        ],
        [
         "1",
         "Actualización",
         "Alta",
         "Información disponible hasta 2023."
        ],
        [
         "2",
         "Calidad de los datos",
         "Buena",
         "Incluye duración, fechas, estaciones."
        ],
        [
         "3",
         "Licencia y acceso",
         "Pública",
         "Acceso libre desde el gobierno de CDMX."
        ],
        [
         "4",
         "Formato y usabilidad",
         "CSV estructurado",
         "Compatible con herramientas de análisis."
        ]
       ],
       "shape": {
        "columns": 3,
        "rows": 5
       }
      },
      "text/html": [
       "<div>\n",
       "<style scoped>\n",
       "    .dataframe tbody tr th:only-of-type {\n",
       "        vertical-align: middle;\n",
       "    }\n",
       "\n",
       "    .dataframe tbody tr th {\n",
       "        vertical-align: top;\n",
       "    }\n",
       "\n",
       "    .dataframe thead th {\n",
       "        text-align: right;\n",
       "    }\n",
       "</style>\n",
       "<table border=\"1\" class=\"dataframe\">\n",
       "  <thead>\n",
       "    <tr style=\"text-align: right;\">\n",
       "      <th></th>\n",
       "      <th>Criterio</th>\n",
       "      <th>Evaluación</th>\n",
       "      <th>Comentario</th>\n",
       "    </tr>\n",
       "  </thead>\n",
       "  <tbody>\n",
       "    <tr>\n",
       "      <th>0</th>\n",
       "      <td>Pertinencia</td>\n",
       "      <td>Alta</td>\n",
       "      <td>Datos relevantes para analizar patrones de viaje.</td>\n",
       "    </tr>\n",
       "    <tr>\n",
       "      <th>1</th>\n",
       "      <td>Actualización</td>\n",
       "      <td>Alta</td>\n",
       "      <td>Información disponible hasta 2023.</td>\n",
       "    </tr>\n",
       "    <tr>\n",
       "      <th>2</th>\n",
       "      <td>Calidad de los datos</td>\n",
       "      <td>Buena</td>\n",
       "      <td>Incluye duración, fechas, estaciones.</td>\n",
       "    </tr>\n",
       "    <tr>\n",
       "      <th>3</th>\n",
       "      <td>Licencia y acceso</td>\n",
       "      <td>Pública</td>\n",
       "      <td>Acceso libre desde el gobierno de CDMX.</td>\n",
       "    </tr>\n",
       "    <tr>\n",
       "      <th>4</th>\n",
       "      <td>Formato y usabilidad</td>\n",
       "      <td>CSV estructurado</td>\n",
       "      <td>Compatible con herramientas de análisis.</td>\n",
       "    </tr>\n",
       "  </tbody>\n",
       "</table>\n",
       "</div>"
      ],
      "text/plain": [
       "               Criterio        Evaluación  \\\n",
       "0           Pertinencia              Alta   \n",
       "1         Actualización              Alta   \n",
       "2  Calidad de los datos             Buena   \n",
       "3     Licencia y acceso           Pública   \n",
       "4  Formato y usabilidad  CSV estructurado   \n",
       "\n",
       "                                          Comentario  \n",
       "0  Datos relevantes para analizar patrones de viaje.  \n",
       "1                 Información disponible hasta 2023.  \n",
       "2              Incluye duración, fechas, estaciones.  \n",
       "3            Acceso libre desde el gobierno de CDMX.  \n",
       "4           Compatible con herramientas de análisis.  "
      ]
     },
     "metadata": {},
     "output_type": "display_data"
    },
    {
     "data": {
      "text/markdown": [
       "### 🗂️ Evaluación: CO₂ emissions dataset (Our World in Data)"
      ],
      "text/plain": [
       "<IPython.core.display.Markdown object>"
      ]
     },
     "metadata": {},
     "output_type": "display_data"
    },
    {
     "data": {
      "text/markdown": [
       "**Tema:** Cambio climático  \n",
       "**Enlace:** [CO₂ emissions dataset (Our World in Data)](https://github.com/owid/co2-data/blob/master/owid-co2-data.csv)"
      ],
      "text/plain": [
       "<IPython.core.display.Markdown object>"
      ]
     },
     "metadata": {},
     "output_type": "display_data"
    },
    {
     "data": {
      "application/vnd.microsoft.datawrangler.viewer.v0+json": {
       "columns": [
        {
         "name": "index",
         "rawType": "int64",
         "type": "integer"
        },
        {
         "name": "Criterio",
         "rawType": "object",
         "type": "string"
        },
        {
         "name": "Evaluación",
         "rawType": "object",
         "type": "string"
        },
        {
         "name": "Comentario",
         "rawType": "object",
         "type": "string"
        }
       ],
       "ref": "37ef2be7-91d9-4f82-a2e7-d8d8141b0175",
       "rows": [
        [
         "0",
         "Pertinencia",
         "Alta",
         "Datos por país, año y tipo de emisión."
        ],
        [
         "1",
         "Actualización",
         "Alta",
         "Última actualización en 2024."
        ],
        [
         "2",
         "Calidad de los datos",
         "Muy buena",
         "Incluye metadatos y fuentes documentadas."
        ],
        [
         "3",
         "Licencia y acceso",
         "Creative Commons",
         "Uso permitido con atribución."
        ],
        [
         "4",
         "Formato y usabilidad",
         "CSV disponible en GitHub",
         "Fácil de importar."
        ]
       ],
       "shape": {
        "columns": 3,
        "rows": 5
       }
      },
      "text/html": [
       "<div>\n",
       "<style scoped>\n",
       "    .dataframe tbody tr th:only-of-type {\n",
       "        vertical-align: middle;\n",
       "    }\n",
       "\n",
       "    .dataframe tbody tr th {\n",
       "        vertical-align: top;\n",
       "    }\n",
       "\n",
       "    .dataframe thead th {\n",
       "        text-align: right;\n",
       "    }\n",
       "</style>\n",
       "<table border=\"1\" class=\"dataframe\">\n",
       "  <thead>\n",
       "    <tr style=\"text-align: right;\">\n",
       "      <th></th>\n",
       "      <th>Criterio</th>\n",
       "      <th>Evaluación</th>\n",
       "      <th>Comentario</th>\n",
       "    </tr>\n",
       "  </thead>\n",
       "  <tbody>\n",
       "    <tr>\n",
       "      <th>0</th>\n",
       "      <td>Pertinencia</td>\n",
       "      <td>Alta</td>\n",
       "      <td>Datos por país, año y tipo de emisión.</td>\n",
       "    </tr>\n",
       "    <tr>\n",
       "      <th>1</th>\n",
       "      <td>Actualización</td>\n",
       "      <td>Alta</td>\n",
       "      <td>Última actualización en 2024.</td>\n",
       "    </tr>\n",
       "    <tr>\n",
       "      <th>2</th>\n",
       "      <td>Calidad de los datos</td>\n",
       "      <td>Muy buena</td>\n",
       "      <td>Incluye metadatos y fuentes documentadas.</td>\n",
       "    </tr>\n",
       "    <tr>\n",
       "      <th>3</th>\n",
       "      <td>Licencia y acceso</td>\n",
       "      <td>Creative Commons</td>\n",
       "      <td>Uso permitido con atribución.</td>\n",
       "    </tr>\n",
       "    <tr>\n",
       "      <th>4</th>\n",
       "      <td>Formato y usabilidad</td>\n",
       "      <td>CSV disponible en GitHub</td>\n",
       "      <td>Fácil de importar.</td>\n",
       "    </tr>\n",
       "  </tbody>\n",
       "</table>\n",
       "</div>"
      ],
      "text/plain": [
       "               Criterio                Evaluación  \\\n",
       "0           Pertinencia                      Alta   \n",
       "1         Actualización                      Alta   \n",
       "2  Calidad de los datos                 Muy buena   \n",
       "3     Licencia y acceso          Creative Commons   \n",
       "4  Formato y usabilidad  CSV disponible en GitHub   \n",
       "\n",
       "                                  Comentario  \n",
       "0     Datos por país, año y tipo de emisión.  \n",
       "1              Última actualización en 2024.  \n",
       "2  Incluye metadatos y fuentes documentadas.  \n",
       "3              Uso permitido con atribución.  \n",
       "4                         Fácil de importar.  "
      ]
     },
     "metadata": {},
     "output_type": "display_data"
    }
   ],
   "source": [
    "### 🧪 Ejemplo 1: COVID-19 en Colombia\n",
    "evaluar_fuente(\n",
    "    nombre_fuente=\"Casos confirmados de COVID-19 en Colombia\",\n",
    "    enlace=\"https://www.datos.gov.co/Salud-y-Protecci-n-Social/Casos-positivos-de-COVID-19-en-Colombia/gt2j-8ykr\",\n",
    "    tema=\"Salud pública\",\n",
    "    evaluaciones=[\n",
    "        \"Alta. Información detallada por municipio, fecha y edad.\",\n",
    "        \"Moderada. Última actualización disponible es de 2022.\",\n",
    "        \"Buena. Datos limpios y categorizados.\",\n",
    "        \"Libre. Licencia abierta y sin restricciones.\",\n",
    "        \"CSV descargable. Fácil uso en Python o Excel.\"\n",
    "    ]\n",
    ")\n",
    "\n",
    "### 🧪 Ejemplo 2: Viajes en Ecobici - CDMX\n",
    "evaluar_fuente(\n",
    "    nombre_fuente=\"Viajes realizados en Ecobici (CDMX)\",\n",
    "    enlace=\"https://datos.cdmx.gob.mx/dataset/ecobici-viajes-realizados\",\n",
    "    tema=\"Movilidad urbana\",\n",
    "    evaluaciones=[\n",
    "        \"Alta. Datos relevantes para analizar patrones de viaje.\",\n",
    "        \"Alta. Información disponible hasta 2023.\",\n",
    "        \"Buena. Incluye duración, fechas, estaciones.\",\n",
    "        \"Pública. Acceso libre desde el gobierno de CDMX.\",\n",
    "        \"CSV estructurado. Compatible con herramientas de análisis.\"\n",
    "    ]\n",
    ")\n",
    "\n",
    "### 🧪 Ejemplo 3: Emisiones de CO₂ - Our World in Data\n",
    "evaluar_fuente(\n",
    "    nombre_fuente=\"CO₂ emissions dataset (Our World in Data)\",\n",
    "    enlace=\"https://github.com/owid/co2-data/blob/master/owid-co2-data.csv\",\n",
    "    tema=\"Cambio climático\",\n",
    "    evaluaciones=[\n",
    "        \"Alta. Datos por país, año y tipo de emisión.\",\n",
    "        \"Alta. Última actualización en 2024.\",\n",
    "        \"Muy buena. Incluye metadatos y fuentes documentadas.\",\n",
    "        \"Creative Commons. Uso permitido con atribución.\",\n",
    "        \"CSV disponible en GitHub. Fácil de importar.\"\n",
    "    ]\n",
    ")\n"
   ]
  },
  {
   "cell_type": "markdown",
   "id": "22a13d89",
   "metadata": {},
   "source": [
    "## 📝 **5. Actividad guiada**"
   ]
  },
  {
   "cell_type": "markdown",
   "id": "467f0498",
   "metadata": {},
   "source": [
    "**Instrucciones:**\n",
    "\n",
    "1. Elige uno de los siguientes temas:\n",
    "   - Educación\n",
    "   - Salud\n",
    "   - Transporte\n",
    "   - Cambio climático\n",
    "\n",
    "2. Busca un conjunto de datos relevante en uno de estos portales:\n",
    "   - [Kaggle](https://www.kaggle.com/datasets)\n",
    "   - [datos.gob.cl](https://datos.gob.cl/)\n",
    "   - [Google Dataset Search](https://datasetsearch.research.google.com/)\n",
    "\n",
    "3. Evalúa brevemente la fuente de datos usando los criterios proporcionados en 3.\n",
    "\n",
    "4. Comparte el enlace del dataset y justifica si lo usarías en un proyecto de toma de decisiones."
   ]
  }
 ],
 "metadata": {
  "kernelspec": {
   "display_name": "base",
   "language": "python",
   "name": "python3"
  },
  "language_info": {
   "codemirror_mode": {
    "name": "ipython",
    "version": 3
   },
   "file_extension": ".py",
   "mimetype": "text/x-python",
   "name": "python",
   "nbconvert_exporter": "python",
   "pygments_lexer": "ipython3",
   "version": "3.12.7"
  }
 },
 "nbformat": 4,
 "nbformat_minor": 5
}
